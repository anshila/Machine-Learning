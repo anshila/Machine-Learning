{
 "cells": [
  {
   "cell_type": "markdown",
   "id": "1f20cecb-497a-48ee-bf94-05cfd07f7a02",
   "metadata": {},
   "source": [
    "### Hypothesis testing"
   ]
  },
  {
   "cell_type": "markdown",
   "id": "9e687ae4-24e8-4fd4-b834-a711170bb3d1",
   "metadata": {},
   "source": [
    "**Q1.Suppose a child psychologist claims that the average time working mothers spend talking to their children is at least 11 minutes per day. \n",
    "You conduct a random sample of 1000 working mothers and find they spend an average of 11.5 minutes per day talking with their children. \n",
    "Assume prior research suggests the population standard deviation is 2.3 minutes.Conduct a test with a level of significance of alpha = 0.05.**"
   ]
  },
  {
   "cell_type": "markdown",
   "id": "8a46bb95-11e8-4239-9ca7-e72789bcafa6",
   "metadata": {},
   "source": [
    "#### 1. State the hypothesis"
   ]
  },
  {
   "cell_type": "markdown",
   "id": "deb36f61-eeea-44dc-9d82-a31069f7e465",
   "metadata": {},
   "source": [
    "**Null Hypothesis**\n",
    "\n",
    "Ho = μ ≤ 11 minutes\n",
    "\n",
    "**Alternate Hypothesis**\n",
    "\n",
    "Ha = μ > 11 minutes"
   ]
  },
  {
   "cell_type": "markdown",
   "id": "476cb7b7-3c86-4882-8823-b9313638c4ef",
   "metadata": {},
   "source": [
    "#### 2. Set the significance level\n",
    "\n",
    "α = 0.05\n",
    "minutes\n"
   ]
  },
  {
   "cell_type": "markdown",
   "id": "b71a84cc-407e-459f-abcb-5327b80f9c81",
   "metadata": {},
   "source": [
    "#### 3. Calculate the test statistic: We'll use the z-test statistic formula\n",
    "\n",
    " - x̄ = 11.5 minutes (sample mean)\n",
    " - μ = 11 minutes (population mean under the null hypothesis)\n",
    " - σ = 2.3 minutes (population standard deviation)\n",
    " - n = 1000 (sample size)"
   ]
  },
  {
   "cell_type": "markdown",
   "id": "d0495889-95c7-46ca-a145-91bbb8a598d2",
   "metadata": {},
   "source": [
    "Z=(x̄ - μ)/(σ/√n)"
   ]
  },
  {
   "cell_type": "code",
   "execution_count": 20,
   "id": "4bc434bc-d60b-4f2a-a9eb-241a0be7a6c5",
   "metadata": {},
   "outputs": [],
   "source": [
    "import math"
   ]
  },
  {
   "cell_type": "code",
   "execution_count": 9,
   "id": "37920c46-829e-4b9e-bd42-03d1185fbfce",
   "metadata": {},
   "outputs": [
    {
     "data": {
      "text/plain": [
       "6.874516652539955"
      ]
     },
     "execution_count": 9,
     "metadata": {},
     "output_type": "execute_result"
    }
   ],
   "source": [
    "Z=(11.5-11)/(2.3)*(math.sqrt(1000))\n",
    "Z"
   ]
  },
  {
   "cell_type": "markdown",
   "id": "13cc026d-7d9a-408b-b996-a6c212e09c1b",
   "metadata": {},
   "source": [
    "#### 4. Determine the critical value: "
   ]
  },
  {
   "cell_type": "markdown",
   "id": "ed0fe238-74d7-45c2-87dc-d30887c4494c",
   "metadata": {},
   "source": [
    "critical value for a z-score corresponding to an alpha of 0.05 from z-distribution table is 1.645. "
   ]
  },
  {
   "cell_type": "markdown",
   "id": "bf4b42fc-b90a-4e8d-b5f1-48da43de11c6",
   "metadata": {},
   "source": [
    "**Since our calculated z-value 6.8745 which is greater than the critical value 1.645, we reject the null hypothesis.**"
   ]
  },
  {
   "cell_type": "code",
   "execution_count": null,
   "id": "d4af4da0-23ba-46d2-9af2-16594c37528b",
   "metadata": {},
   "outputs": [],
   "source": []
  },
  {
   "cell_type": "markdown",
   "id": "f2e2a53e-b61d-4ee9-b996-b75c60faf021",
   "metadata": {},
   "source": [
    "**Q2. A coffee shop claims that their average wait time for customers is less than 5 minutes.\n",
    "To test this claim, a sample of 40 customers is taken, and their wait times are recorded.\n",
    "The sample mean wait time is found to be 4.6 minutes with a standard deviation of 0.8 minutes. \n",
    "Perform a hypothesis test at a significance level of 0.05 and determine whether there is enough evidence to support the coffee shop's claim.**"
   ]
  },
  {
   "cell_type": "markdown",
   "id": "b74dc770-16b0-4f22-b97b-98c4780f4796",
   "metadata": {},
   "source": [
    "**Null Hypothesis**\n",
    "\n",
    "Ho = μ > 5 minutes\n",
    "\n",
    "**Alternate Hypothesis**\n",
    "\n",
    "Ha = μ < minutes"
   ]
  },
  {
   "cell_type": "markdown",
   "id": "b90ffb73-d44d-4368-991d-132195837366",
   "metadata": {},
   "source": [
    "- x̄ = 4.6 minutes (sample mean)\n",
    "- μ = 5 minutes (population mean)\n",
    "- σ = 0.8 minutes (sample standard deviation)\n",
    "- n = 40 (sample size)\n",
    "- α = 0.05 (significance level)\n",
    "- Degree of freedom(n-1) = 39"
   ]
  },
  {
   "cell_type": "markdown",
   "id": "57f9e0bc-e21b-46b3-abd3-a7990a8500de",
   "metadata": {},
   "source": [
    "The t-test works well when we don't know the population standard deviation, especially for smaller groups, usually less than 30. But it's still good to use even for bigger groups, over 30. This is because of the Central Limit Theorem, which says that as our group size gets bigger, our average values act more like they're from a normal distribution. So, no matter if our group is small or big, the t-test is a reliable way to check things."
   ]
  },
  {
   "cell_type": "markdown",
   "id": "356de0b9-c519-4afa-a14b-9c1d880dce7e",
   "metadata": {},
   "source": [
    "t = (x̄ - μ) / (σ / √n)"
   ]
  },
  {
   "cell_type": "code",
   "execution_count": 19,
   "id": "7a43bc05-a107-4154-ac85-77f9c0ad8643",
   "metadata": {},
   "outputs": [
    {
     "data": {
      "text/plain": [
       "-3.162277660168382"
      ]
     },
     "execution_count": 19,
     "metadata": {},
     "output_type": "execute_result"
    }
   ],
   "source": [
    "t=(4.6-5)/(0.8/math.sqrt(40))\n",
    "t"
   ]
  },
  {
   "cell_type": "markdown",
   "id": "e0d3d2d0-6378-4ccc-9d5f-be998b63d5b3",
   "metadata": {},
   "source": [
    "Looking at the z-table, the critical value is approximately -1.645."
   ]
  },
  {
   "cell_type": "markdown",
   "id": "2c6d5581-fa02-4705-87a3-e0b69ada88c3",
   "metadata": {},
   "source": [
    "**Since our calculated t-value -3.162 which is less than the critical value -1.645, we reject the null hypothesis.**\n"
   ]
  }
 ],
 "metadata": {
  "kernelspec": {
   "display_name": "Python 3 (ipykernel)",
   "language": "python",
   "name": "python3"
  },
  "language_info": {
   "codemirror_mode": {
    "name": "ipython",
    "version": 3
   },
   "file_extension": ".py",
   "mimetype": "text/x-python",
   "name": "python",
   "nbconvert_exporter": "python",
   "pygments_lexer": "ipython3",
   "version": "3.11.5"
  }
 },
 "nbformat": 4,
 "nbformat_minor": 5
}
