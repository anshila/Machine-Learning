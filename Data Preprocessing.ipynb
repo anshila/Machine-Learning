{
 "cells": [
  {
   "cell_type": "code",
   "execution_count": 1,
   "id": "cf8971ea",
   "metadata": {
    "colab": {
     "base_uri": "https://localhost:8080/"
    },
    "executionInfo": {
     "elapsed": 1181,
     "status": "ok",
     "timestamp": 1714187029743,
     "user": {
      "displayName": "Dr. Jitha P Nair",
      "userId": "14277548777958317348"
     },
     "user_tz": -330
    },
    "id": "cf8971ea",
    "outputId": "4e0ab4b6-fc0b-4215-9b43-41fa2aaad4d7"
   },
   "outputs": [
    {
     "name": "stdout",
     "output_type": "stream",
     "text": [
      "     name    brand  color\n",
      "0   Swift   Suzuki    Red\n",
      "1   Verna  Hyundai  White\n",
      "2    Polo       VW    Red\n",
      "3   Creta  Hyundai  Black\n",
      "4  Innova   Toyota  White\n"
     ]
    }
   ],
   "source": [
    "import pandas as pd\n",
    "\n",
    "df = pd.DataFrame({\n",
    "    \"name\": [\"Swift\", \"Verna\", \"Polo\", \"Creta\", \"Innova\"],\n",
    "    \"brand\": [\"Suzuki\", \"Hyundai\", \"VW\", \"Hyundai\", \"Toyota\"],\n",
    "    \"color\": [\"Red\", \"White\", \"Red\", \"Black\", \"White\"]\n",
    "    })\n",
    "\n",
    "print(df)"
   ]
  },
  {
   "cell_type": "markdown",
   "id": "e8d4c869",
   "metadata": {
    "id": "e8d4c869"
   },
   "source": [
    "## Encoding Categorical Variables"
   ]
  },
  {
   "cell_type": "code",
   "execution_count": 2,
   "id": "3b370aea",
   "metadata": {
    "colab": {
     "base_uri": "https://localhost:8080/"
    },
    "executionInfo": {
     "elapsed": 1550,
     "status": "ok",
     "timestamp": 1714187086769,
     "user": {
      "displayName": "Dr. Jitha P Nair",
      "userId": "14277548777958317348"
     },
     "user_tz": -330
    },
    "id": "3b370aea",
    "outputId": "a4cc7abf-29d0-4a6d-8ea4-4376f712ebc8"
   },
   "outputs": [
    {
     "name": "stdout",
     "output_type": "stream",
     "text": [
      "     name  brand_Hyundai  brand_Suzuki  brand_Toyota  brand_VW  color_Black  \\\n",
      "0   Swift          False          True         False     False        False   \n",
      "1   Verna           True         False         False     False        False   \n",
      "2    Polo          False         False         False      True        False   \n",
      "3   Creta           True         False         False     False         True   \n",
      "4  Innova          False         False          True     False        False   \n",
      "\n",
      "   color_Red  color_White  \n",
      "0       True        False  \n",
      "1      False         True  \n",
      "2       True        False  \n",
      "3      False        False  \n",
      "4      False         True  \n"
     ]
    }
   ],
   "source": [
    "import numpy as np\n",
    "df_one_hot_encoded = pd.get_dummies(data = df, columns = [\"brand\", \"color\"])\n",
    "\n",
    "print(df_one_hot_encoded )"
   ]
  },
  {
   "cell_type": "code",
   "execution_count": 3,
   "id": "e5c71551",
   "metadata": {
    "colab": {
     "base_uri": "https://localhost:8080/"
    },
    "executionInfo": {
     "elapsed": 21,
     "status": "ok",
     "timestamp": 1714187096198,
     "user": {
      "displayName": "Dr. Jitha P Nair",
      "userId": "14277548777958317348"
     },
     "user_tz": -330
    },
    "id": "e5c71551",
    "outputId": "35bb378c-1e0e-438a-8d7e-1fdd77a95fab"
   },
   "outputs": [
    {
     "name": "stdout",
     "output_type": "stream",
     "text": [
      "['is_Suzuki', 'is_Hyundai', 'is_VW', 'is_Toyota', 'is_Red', 'is_White', 'is_Black']\n",
      "     name    brand  color  is_Suzuki  is_Hyundai  is_VW  is_Toyota  is_Red  \\\n",
      "0   Swift   Suzuki    Red        0.0         1.0    0.0        0.0     0.0   \n",
      "1   Verna  Hyundai  White        1.0         0.0    0.0        0.0     0.0   \n",
      "2    Polo       VW    Red        0.0         0.0    0.0        1.0     0.0   \n",
      "3   Creta  Hyundai  Black        1.0         0.0    0.0        0.0     1.0   \n",
      "4  Innova   Toyota  White        0.0         0.0    1.0        0.0     0.0   \n",
      "\n",
      "   is_White  is_Black  \n",
      "0       1.0       0.0  \n",
      "1       0.0       1.0  \n",
      "2       1.0       0.0  \n",
      "3       0.0       0.0  \n",
      "4       0.0       1.0  \n"
     ]
    },
    {
     "name": "stderr",
     "output_type": "stream",
     "text": [
      "/usr/local/lib/python3.10/dist-packages/sklearn/preprocessing/_encoders.py:868: FutureWarning: `sparse` was renamed to `sparse_output` in version 1.2 and will be removed in 1.4. `sparse_output` is ignored unless you leave `sparse` to its default value.\n",
      "  warnings.warn(\n"
     ]
    }
   ],
   "source": [
    "import pandas as pd\n",
    "from sklearn.preprocessing import OneHotEncoder\n",
    "\n",
    "cols_to_encode = [\"brand\", \"color\"]\n",
    "new_encoded_cols_names = []\n",
    "\n",
    "# Create a list of new columns names\n",
    "for col in cols_to_encode:\n",
    "    new_encoded_cols_names += [f\"is_{category}\" for category in df[col].unique().tolist()]\n",
    "\n",
    "print(new_encoded_cols_names)\n",
    "#['is_Suzuki', 'is_Hyundai', 'is_VW', 'is_Toyota', 'is_Red', 'is_White', 'is_Black']\n",
    "\n",
    "# Inititalize and fit One Hot Encoder class from sklearn\n",
    "one_hot_encoder = OneHotEncoder(sparse = False, handle_unknown = 'ignore')\n",
    "encoded_cols = one_hot_encoder.fit_transform(df[cols_to_encode])\n",
    "\n",
    "# As the output of the above transformer would be a sparse matrix, we need to convert it back to Pandas dataframe\n",
    "df_encoded = pd.DataFrame(encoded_cols, columns = new_encoded_cols_names)\n",
    "df_one_hot_encoded = df.join(df_encoded)\n",
    "\n",
    "print(df_one_hot_encoded)"
   ]
  },
  {
   "cell_type": "code",
   "execution_count": 5,
   "id": "ad029d10",
   "metadata": {
    "executionInfo": {
     "elapsed": 392,
     "status": "ok",
     "timestamp": 1714187174957,
     "user": {
      "displayName": "Dr. Jitha P Nair",
      "userId": "14277548777958317348"
     },
     "user_tz": -330
    },
    "id": "ad029d10"
   },
   "outputs": [],
   "source": [
    "from sklearn.preprocessing import LabelEncoder\n",
    "label_encoder = LabelEncoder()\n",
    "for i in df:\n",
    "    df[i] = label_encoder.fit_transform(df[i])"
   ]
  },
  {
   "cell_type": "code",
   "execution_count": 6,
   "id": "f67b5a35",
   "metadata": {
    "colab": {
     "base_uri": "https://localhost:8080/"
    },
    "executionInfo": {
     "elapsed": 387,
     "status": "ok",
     "timestamp": 1714187177990,
     "user": {
      "displayName": "Dr. Jitha P Nair",
      "userId": "14277548777958317348"
     },
     "user_tz": -330
    },
    "id": "f67b5a35",
    "outputId": "c7aaa0df-8033-4ad5-bed8-05a3bab246ce"
   },
   "outputs": [
    {
     "data": {
      "text/plain": [
       "brand\n",
       "0    2\n",
       "1    1\n",
       "3    1\n",
       "2    1\n",
       "Name: count, dtype: int64"
      ]
     },
     "execution_count": 6,
     "metadata": {},
     "output_type": "execute_result"
    }
   ],
   "source": [
    "df.brand.value_counts()"
   ]
  },
  {
   "cell_type": "code",
   "execution_count": 7,
   "id": "eca81a59",
   "metadata": {
    "colab": {
     "base_uri": "https://localhost:8080/",
     "height": 206
    },
    "executionInfo": {
     "elapsed": 424,
     "status": "ok",
     "timestamp": 1714187180750,
     "user": {
      "displayName": "Dr. Jitha P Nair",
      "userId": "14277548777958317348"
     },
     "user_tz": -330
    },
    "id": "eca81a59",
    "outputId": "a6c04894-44f0-4847-9ac9-c8ddcdbb6917"
   },
   "outputs": [
    {
     "data": {
      "application/vnd.google.colaboratory.intrinsic+json": {
       "summary": "{\n  \"name\": \"df\",\n  \"rows\": 5,\n  \"fields\": [\n    {\n      \"column\": \"brand\",\n      \"properties\": {\n        \"dtype\": \"number\",\n        \"std\": 1,\n        \"min\": 0,\n        \"max\": 3,\n        \"num_unique_values\": 4,\n        \"samples\": [\n          0,\n          2,\n          1\n        ],\n        \"semantic_type\": \"\",\n        \"description\": \"\"\n      }\n    },\n    {\n      \"column\": \"color\",\n      \"properties\": {\n        \"dtype\": \"number\",\n        \"std\": 0,\n        \"min\": 0,\n        \"max\": 2,\n        \"num_unique_values\": 3,\n        \"samples\": [\n          1,\n          2,\n          0\n        ],\n        \"semantic_type\": \"\",\n        \"description\": \"\"\n      }\n    }\n  ]\n}",
       "type": "dataframe",
       "variable_name": "df"
      },
      "text/html": [
       "\n",
       "  <div id=\"df-8916a3c7-fed5-4abc-9981-32b9fed107ef\" class=\"colab-df-container\">\n",
       "    <div>\n",
       "<style scoped>\n",
       "    .dataframe tbody tr th:only-of-type {\n",
       "        vertical-align: middle;\n",
       "    }\n",
       "\n",
       "    .dataframe tbody tr th {\n",
       "        vertical-align: top;\n",
       "    }\n",
       "\n",
       "    .dataframe thead th {\n",
       "        text-align: right;\n",
       "    }\n",
       "</style>\n",
       "<table border=\"1\" class=\"dataframe\">\n",
       "  <thead>\n",
       "    <tr style=\"text-align: right;\">\n",
       "      <th></th>\n",
       "      <th>brand</th>\n",
       "      <th>color</th>\n",
       "    </tr>\n",
       "  </thead>\n",
       "  <tbody>\n",
       "    <tr>\n",
       "      <th>0</th>\n",
       "      <td>1</td>\n",
       "      <td>1</td>\n",
       "    </tr>\n",
       "    <tr>\n",
       "      <th>1</th>\n",
       "      <td>0</td>\n",
       "      <td>2</td>\n",
       "    </tr>\n",
       "    <tr>\n",
       "      <th>2</th>\n",
       "      <td>3</td>\n",
       "      <td>0</td>\n",
       "    </tr>\n",
       "    <tr>\n",
       "      <th>3</th>\n",
       "      <td>2</td>\n",
       "      <td>1</td>\n",
       "    </tr>\n",
       "    <tr>\n",
       "      <th>4</th>\n",
       "      <td>0</td>\n",
       "      <td>0</td>\n",
       "    </tr>\n",
       "  </tbody>\n",
       "</table>\n",
       "</div>\n",
       "    <div class=\"colab-df-buttons\">\n",
       "\n",
       "  <div class=\"colab-df-container\">\n",
       "    <button class=\"colab-df-convert\" onclick=\"convertToInteractive('df-8916a3c7-fed5-4abc-9981-32b9fed107ef')\"\n",
       "            title=\"Convert this dataframe to an interactive table.\"\n",
       "            style=\"display:none;\">\n",
       "\n",
       "  <svg xmlns=\"http://www.w3.org/2000/svg\" height=\"24px\" viewBox=\"0 -960 960 960\">\n",
       "    <path d=\"M120-120v-720h720v720H120Zm60-500h600v-160H180v160Zm220 220h160v-160H400v160Zm0 220h160v-160H400v160ZM180-400h160v-160H180v160Zm440 0h160v-160H620v160ZM180-180h160v-160H180v160Zm440 0h160v-160H620v160Z\"/>\n",
       "  </svg>\n",
       "    </button>\n",
       "\n",
       "  <style>\n",
       "    .colab-df-container {\n",
       "      display:flex;\n",
       "      gap: 12px;\n",
       "    }\n",
       "\n",
       "    .colab-df-convert {\n",
       "      background-color: #E8F0FE;\n",
       "      border: none;\n",
       "      border-radius: 50%;\n",
       "      cursor: pointer;\n",
       "      display: none;\n",
       "      fill: #1967D2;\n",
       "      height: 32px;\n",
       "      padding: 0 0 0 0;\n",
       "      width: 32px;\n",
       "    }\n",
       "\n",
       "    .colab-df-convert:hover {\n",
       "      background-color: #E2EBFA;\n",
       "      box-shadow: 0px 1px 2px rgba(60, 64, 67, 0.3), 0px 1px 3px 1px rgba(60, 64, 67, 0.15);\n",
       "      fill: #174EA6;\n",
       "    }\n",
       "\n",
       "    .colab-df-buttons div {\n",
       "      margin-bottom: 4px;\n",
       "    }\n",
       "\n",
       "    [theme=dark] .colab-df-convert {\n",
       "      background-color: #3B4455;\n",
       "      fill: #D2E3FC;\n",
       "    }\n",
       "\n",
       "    [theme=dark] .colab-df-convert:hover {\n",
       "      background-color: #434B5C;\n",
       "      box-shadow: 0px 1px 3px 1px rgba(0, 0, 0, 0.15);\n",
       "      filter: drop-shadow(0px 1px 2px rgba(0, 0, 0, 0.3));\n",
       "      fill: #FFFFFF;\n",
       "    }\n",
       "  </style>\n",
       "\n",
       "    <script>\n",
       "      const buttonEl =\n",
       "        document.querySelector('#df-8916a3c7-fed5-4abc-9981-32b9fed107ef button.colab-df-convert');\n",
       "      buttonEl.style.display =\n",
       "        google.colab.kernel.accessAllowed ? 'block' : 'none';\n",
       "\n",
       "      async function convertToInteractive(key) {\n",
       "        const element = document.querySelector('#df-8916a3c7-fed5-4abc-9981-32b9fed107ef');\n",
       "        const dataTable =\n",
       "          await google.colab.kernel.invokeFunction('convertToInteractive',\n",
       "                                                    [key], {});\n",
       "        if (!dataTable) return;\n",
       "\n",
       "        const docLinkHtml = 'Like what you see? Visit the ' +\n",
       "          '<a target=\"_blank\" href=https://colab.research.google.com/notebooks/data_table.ipynb>data table notebook</a>'\n",
       "          + ' to learn more about interactive tables.';\n",
       "        element.innerHTML = '';\n",
       "        dataTable['output_type'] = 'display_data';\n",
       "        await google.colab.output.renderOutput(dataTable, element);\n",
       "        const docLink = document.createElement('div');\n",
       "        docLink.innerHTML = docLinkHtml;\n",
       "        element.appendChild(docLink);\n",
       "      }\n",
       "    </script>\n",
       "  </div>\n",
       "\n",
       "\n",
       "<div id=\"df-0d9f9150-ff1e-454e-b1fb-c04ffec16688\">\n",
       "  <button class=\"colab-df-quickchart\" onclick=\"quickchart('df-0d9f9150-ff1e-454e-b1fb-c04ffec16688')\"\n",
       "            title=\"Suggest charts\"\n",
       "            style=\"display:none;\">\n",
       "\n",
       "<svg xmlns=\"http://www.w3.org/2000/svg\" height=\"24px\"viewBox=\"0 0 24 24\"\n",
       "     width=\"24px\">\n",
       "    <g>\n",
       "        <path d=\"M19 3H5c-1.1 0-2 .9-2 2v14c0 1.1.9 2 2 2h14c1.1 0 2-.9 2-2V5c0-1.1-.9-2-2-2zM9 17H7v-7h2v7zm4 0h-2V7h2v10zm4 0h-2v-4h2v4z\"/>\n",
       "    </g>\n",
       "</svg>\n",
       "  </button>\n",
       "\n",
       "<style>\n",
       "  .colab-df-quickchart {\n",
       "      --bg-color: #E8F0FE;\n",
       "      --fill-color: #1967D2;\n",
       "      --hover-bg-color: #E2EBFA;\n",
       "      --hover-fill-color: #174EA6;\n",
       "      --disabled-fill-color: #AAA;\n",
       "      --disabled-bg-color: #DDD;\n",
       "  }\n",
       "\n",
       "  [theme=dark] .colab-df-quickchart {\n",
       "      --bg-color: #3B4455;\n",
       "      --fill-color: #D2E3FC;\n",
       "      --hover-bg-color: #434B5C;\n",
       "      --hover-fill-color: #FFFFFF;\n",
       "      --disabled-bg-color: #3B4455;\n",
       "      --disabled-fill-color: #666;\n",
       "  }\n",
       "\n",
       "  .colab-df-quickchart {\n",
       "    background-color: var(--bg-color);\n",
       "    border: none;\n",
       "    border-radius: 50%;\n",
       "    cursor: pointer;\n",
       "    display: none;\n",
       "    fill: var(--fill-color);\n",
       "    height: 32px;\n",
       "    padding: 0;\n",
       "    width: 32px;\n",
       "  }\n",
       "\n",
       "  .colab-df-quickchart:hover {\n",
       "    background-color: var(--hover-bg-color);\n",
       "    box-shadow: 0 1px 2px rgba(60, 64, 67, 0.3), 0 1px 3px 1px rgba(60, 64, 67, 0.15);\n",
       "    fill: var(--button-hover-fill-color);\n",
       "  }\n",
       "\n",
       "  .colab-df-quickchart-complete:disabled,\n",
       "  .colab-df-quickchart-complete:disabled:hover {\n",
       "    background-color: var(--disabled-bg-color);\n",
       "    fill: var(--disabled-fill-color);\n",
       "    box-shadow: none;\n",
       "  }\n",
       "\n",
       "  .colab-df-spinner {\n",
       "    border: 2px solid var(--fill-color);\n",
       "    border-color: transparent;\n",
       "    border-bottom-color: var(--fill-color);\n",
       "    animation:\n",
       "      spin 1s steps(1) infinite;\n",
       "  }\n",
       "\n",
       "  @keyframes spin {\n",
       "    0% {\n",
       "      border-color: transparent;\n",
       "      border-bottom-color: var(--fill-color);\n",
       "      border-left-color: var(--fill-color);\n",
       "    }\n",
       "    20% {\n",
       "      border-color: transparent;\n",
       "      border-left-color: var(--fill-color);\n",
       "      border-top-color: var(--fill-color);\n",
       "    }\n",
       "    30% {\n",
       "      border-color: transparent;\n",
       "      border-left-color: var(--fill-color);\n",
       "      border-top-color: var(--fill-color);\n",
       "      border-right-color: var(--fill-color);\n",
       "    }\n",
       "    40% {\n",
       "      border-color: transparent;\n",
       "      border-right-color: var(--fill-color);\n",
       "      border-top-color: var(--fill-color);\n",
       "    }\n",
       "    60% {\n",
       "      border-color: transparent;\n",
       "      border-right-color: var(--fill-color);\n",
       "    }\n",
       "    80% {\n",
       "      border-color: transparent;\n",
       "      border-right-color: var(--fill-color);\n",
       "      border-bottom-color: var(--fill-color);\n",
       "    }\n",
       "    90% {\n",
       "      border-color: transparent;\n",
       "      border-bottom-color: var(--fill-color);\n",
       "    }\n",
       "  }\n",
       "</style>\n",
       "\n",
       "  <script>\n",
       "    async function quickchart(key) {\n",
       "      const quickchartButtonEl =\n",
       "        document.querySelector('#' + key + ' button');\n",
       "      quickchartButtonEl.disabled = true;  // To prevent multiple clicks.\n",
       "      quickchartButtonEl.classList.add('colab-df-spinner');\n",
       "      try {\n",
       "        const charts = await google.colab.kernel.invokeFunction(\n",
       "            'suggestCharts', [key], {});\n",
       "      } catch (error) {\n",
       "        console.error('Error during call to suggestCharts:', error);\n",
       "      }\n",
       "      quickchartButtonEl.classList.remove('colab-df-spinner');\n",
       "      quickchartButtonEl.classList.add('colab-df-quickchart-complete');\n",
       "    }\n",
       "    (() => {\n",
       "      let quickchartButtonEl =\n",
       "        document.querySelector('#df-0d9f9150-ff1e-454e-b1fb-c04ffec16688 button');\n",
       "      quickchartButtonEl.style.display =\n",
       "        google.colab.kernel.accessAllowed ? 'block' : 'none';\n",
       "    })();\n",
       "  </script>\n",
       "</div>\n",
       "    </div>\n",
       "  </div>\n"
      ],
      "text/plain": [
       "   brand  color\n",
       "0      1      1\n",
       "1      0      2\n",
       "2      3      0\n",
       "3      2      1\n",
       "4      0      0"
      ]
     },
     "execution_count": 7,
     "metadata": {},
     "output_type": "execute_result"
    }
   ],
   "source": [
    "df"
   ]
  },
  {
   "cell_type": "markdown",
   "id": "a28ccf92",
   "metadata": {
    "id": "a28ccf92"
   },
   "source": [
    "## Feature Scaling"
   ]
  },
  {
   "cell_type": "code",
   "execution_count": 8,
   "id": "1b26a4d9",
   "metadata": {
    "colab": {
     "base_uri": "https://localhost:8080/"
    },
    "executionInfo": {
     "elapsed": 403,
     "status": "ok",
     "timestamp": 1714187185559,
     "user": {
      "displayName": "Dr. Jitha P Nair",
      "userId": "14277548777958317348"
     },
     "user_tz": -330
    },
    "id": "1b26a4d9",
    "outputId": "5dd52219-bd96-4310-81a3-afc95db65ac0"
   },
   "outputs": [
    {
     "name": "stdout",
     "output_type": "stream",
     "text": [
      "[[-0.63170839 -0.60858062]\n",
      " [ 0.58311544  0.        ]\n",
      " [-1.48208507 -1.52145155]\n",
      " [ 1.43349212  0.91287093]\n",
      " [ 0.09718591  1.21716124]]\n"
     ]
    }
   ],
   "source": [
    "import pandas as pd\n",
    "from sklearn.preprocessing import StandardScaler\n",
    "\n",
    "# Create a DataFrame\n",
    "data = pd.DataFrame({\n",
    "    'age': [35, 45, 28, 52, 41],\n",
    "    'income': [50000, 60000, 35000, 75000, 80000]\n",
    "})\n",
    "\n",
    "# Create a scaler object\n",
    "scaler = StandardScaler()\n",
    "\n",
    "# Fit the scaler on the data\n",
    "scaler.fit(data)\n",
    "\n",
    "# Transform the data\n",
    "scaled_data = scaler.transform(data)\n",
    "\n",
    "# Print the scaled data\n",
    "print(scaled_data)\n"
   ]
  },
  {
   "cell_type": "code",
   "execution_count": 9,
   "id": "41f6eec7",
   "metadata": {
    "colab": {
     "base_uri": "https://localhost:8080/"
    },
    "executionInfo": {
     "elapsed": 380,
     "status": "ok",
     "timestamp": 1714187190815,
     "user": {
      "displayName": "Dr. Jitha P Nair",
      "userId": "14277548777958317348"
     },
     "user_tz": -330
    },
    "id": "41f6eec7",
    "outputId": "8816318f-0e23-44aa-bff5-04422d11c487"
   },
   "outputs": [
    {
     "name": "stdout",
     "output_type": "stream",
     "text": [
      "[[0.29166667 0.33333333]\n",
      " [0.70833333 0.55555556]\n",
      " [0.         0.        ]\n",
      " [1.         0.88888889]\n",
      " [0.54166667 1.        ]]\n"
     ]
    }
   ],
   "source": [
    "import pandas as pd\n",
    "from sklearn.preprocessing import MinMaxScaler\n",
    "\n",
    "# Create a DataFrame\n",
    "data = pd.DataFrame({\n",
    "    'age': [35, 45, 28, 52, 41],\n",
    "    'income': [50000, 60000, 35000, 75000, 80000]\n",
    "})\n",
    "\n",
    "# Create a scaler object\n",
    "scaler = MinMaxScaler()\n",
    "\n",
    "# Fit the scaler on the data\n",
    "scaler.fit(data)\n",
    "\n",
    "# Transform the data\n",
    "scaled_data = scaler.transform(data)\n",
    "\n",
    "# Print the scaled data\n",
    "print(scaled_data)\n"
   ]
  }
 ],
 "metadata": {
  "colab": {
   "provenance": []
  },
  "kernelspec": {
   "display_name": "Python 3 (ipykernel)",
   "language": "python",
   "name": "python3"
  },
  "language_info": {
   "codemirror_mode": {
    "name": "ipython",
    "version": 3
   },
   "file_extension": ".py",
   "mimetype": "text/x-python",
   "name": "python",
   "nbconvert_exporter": "python",
   "pygments_lexer": "ipython3",
   "version": "3.11.5"
  }
 },
 "nbformat": 4,
 "nbformat_minor": 5
}
